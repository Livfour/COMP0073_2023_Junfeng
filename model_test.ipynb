{
 "cells": [
  {
   "cell_type": "code",
   "execution_count": 1,
   "metadata": {},
   "outputs": [],
   "source": [
    "import torch\n",
    "import torch.nn as nn\n",
    "\n",
    "from models.head.BaseHead import BaseHead\n",
    "from models.backbone.video_vit import VideoViTEncoder\n",
    "from models.backbone.vit_with_fusion import FusionVit\n",
    "from models.head.LMSFI import LMSFI\n",
    "from models.head.deconv import DeconvHead\n",
    "from models.PoseEstimate import PoseEstimate\n",
    "from models.head import ResMaskHead, SimpleHead"
   ]
  },
  {
   "cell_type": "code",
   "execution_count": 4,
   "metadata": {},
   "outputs": [
    {
     "name": "stdout",
     "output_type": "stream",
     "text": [
      "torch.Size([4, 17, 64, 48])\n"
     ]
    }
   ],
   "source": [
    "# device = torch.device('cuda' if torch.cuda.is_available() else 'cpu')\n",
    "device = \"cpu\"\n",
    "pretrained_path = \"./checkpoints/vitpose_base_coco_aic_mpii.pth\"\n",
    "encoder = FusionVit(pretrained_path=pretrained_path)\n",
    "neck = nn.Identity()\n",
    "head = SimpleHead()\n",
    "model = PoseEstimate(encoder=encoder, neck=neck, head=head)\n",
    "model.to(device)\n",
    "video = torch.randn(4, 3, 3, 256, 192).to(device)\n",
    "heatmaps = torch.randn(4, 17, 64, 48).to(device)\n",
    "pred = model(video)\n",
    "pred = model.predict(video)\n",
    "print(pred.shape)"
   ]
  },
  {
   "cell_type": "code",
   "execution_count": 20,
   "metadata": {},
   "outputs": [
    {
     "name": "stdout",
     "output_type": "stream",
     "text": [
      "19944243\n"
     ]
    }
   ],
   "source": [
    "def count_parameters(model):\n",
    "    return sum(p.numel() for p in model.parameters() if p.requires_grad)\n",
    "\n",
    "print(count_parameters(head))"
   ]
  }
 ],
 "metadata": {
  "kernelspec": {
   "display_name": "pt21_eval",
   "language": "python",
   "name": "python3"
  },
  "language_info": {
   "codemirror_mode": {
    "name": "ipython",
    "version": 3
   },
   "file_extension": ".py",
   "mimetype": "text/x-python",
   "name": "python",
   "nbconvert_exporter": "python",
   "pygments_lexer": "ipython3",
   "version": "3.10.12"
  },
  "orig_nbformat": 4
 },
 "nbformat": 4,
 "nbformat_minor": 2
}
