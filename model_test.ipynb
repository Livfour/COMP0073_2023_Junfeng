{
 "cells": [
  {
   "cell_type": "code",
   "execution_count": 13,
   "metadata": {},
   "outputs": [],
   "source": [
    "import torch\n",
    "import torch.nn as nn\n",
    "\n",
    "from mmpose.models import ResNet\n",
    "\n",
    "from models.head.BaseHead import BaseHead\n",
    "from models.backbone.video_vit import VideoViTEncoder\n",
    "from models.backbone.vit_with_fusion import FusionVit\n",
    "from models.head.LMSFI import LMSFI\n",
    "from models.head.deconv import DeconvHead\n",
    "from models.PoseEstimate import PoseEstimate\n",
    "from models.head import ResMaskHead, SimpleHead"
   ]
  },
  {
   "cell_type": "code",
   "execution_count": 18,
   "metadata": {},
   "outputs": [],
   "source": [
    "class ResNet50(nn.Module):\n",
    "    def __init__(self):\n",
    "        super(ResNet50, self).__init__()\n",
    "        self.resnet = ResNet(depth=50, out_indices=([2]))\n",
    "\n",
    "    def forward(self, x):\n",
    "        return self.resnet(x)[0]"
   ]
  },
  {
   "cell_type": "code",
   "execution_count": 27,
   "metadata": {},
   "outputs": [
    {
     "name": "stdout",
     "output_type": "stream",
     "text": [
      "torch.Size([4, 17, 64, 48])\n"
     ]
    }
   ],
   "source": [
    "# device = torch.device('cuda' if torch.cuda.is_available() else 'cpu')\n",
    "device = \"cpu\"\n",
    "pretrained_path = \"./checkpoints/vitpose_base_coco_aic_mpii.pth\"\n",
    "encoder =  ResNet50()\n",
    "neck = nn.Identity()\n",
    "head = SimpleHead(embed_dim=1024)\n",
    "model = PoseEstimate(encoder=encoder, neck=neck, head=head)\n",
    "model.to(device)\n",
    "video = torch.randn(4, 3, 3, 256, 192).to(device)\n",
    "heatmaps = torch.randn(4, 17, 64, 48).to(device)\n",
    "pred = model(video[:, 1, :, :, :])\n",
    "# pred = model.predict(video)\n",
    "print(pred.shape)"
   ]
  },
  {
   "cell_type": "code",
   "execution_count": 12,
   "metadata": {},
   "outputs": [
    {
     "name": "stdout",
     "output_type": "stream",
     "text": [
      "23508032\n"
     ]
    }
   ],
   "source": [
    "def count_parameters(model):\n",
    "    return sum(p.numel() for p in model.parameters() if p.requires_grad)\n",
    "\n",
    "print(count_parameters(resnet))"
   ]
  }
 ],
 "metadata": {
  "kernelspec": {
   "display_name": "pt21_eval",
   "language": "python",
   "name": "python3"
  },
  "language_info": {
   "codemirror_mode": {
    "name": "ipython",
    "version": 3
   },
   "file_extension": ".py",
   "mimetype": "text/x-python",
   "name": "python",
   "nbconvert_exporter": "python",
   "pygments_lexer": "ipython3",
   "version": "3.10.12"
  },
  "orig_nbformat": 4
 },
 "nbformat": 4,
 "nbformat_minor": 2
}
