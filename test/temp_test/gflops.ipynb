{
 "cells": [
  {
   "cell_type": "code",
   "execution_count": 18,
   "metadata": {},
   "outputs": [],
   "source": [
    "import torch\n",
    "import torch.nn as nn\n",
    "from thop import profile\n",
    "from mmpose.models import ResNet\n",
    "\n",
    "from models.head.BaseHead import BaseHead\n",
    "from models.backbone.vit_with_fusion import FusionVit\n",
    "from models.PoseEstimate import PoseEstimate\n",
    "from models.head import ResMaskHead, SimpleHead, DeconvHead, MaskHead\n",
    "from models.head.ResMaskHeadv2 import ResMaskHead2"
   ]
  },
  {
   "cell_type": "code",
   "execution_count": 20,
   "metadata": {},
   "outputs": [
    {
     "name": "stdout",
     "output_type": "stream",
     "text": [
      "[INFO] Register count_linear() for <class 'torch.nn.modules.linear.Linear'>.\n",
      "[INFO] Register count_convNd() for <class 'torch.nn.modules.conv.Conv2d'>.\n",
      "[INFO] Register count_normalization() for <class 'torch.nn.modules.batchnorm.BatchNorm2d'>.\n",
      "[INFO] Register zero_ops() for <class 'torch.nn.modules.activation.ReLU'>.\n",
      "[INFO] Register zero_ops() for <class 'torch.nn.modules.container.Sequential'>.\n",
      "[INFO] Register count_convNd() for <class 'torch.nn.modules.conv.ConvTranspose2d'>.\n",
      "GFLOPs: 344.372788433G\n",
      "Params: 154.577783M\n"
     ]
    }
   ],
   "source": [
    "device = \"cpu\"\n",
    "pretrained_path = \"./checkpoints/vitpose_base_coco_aic_mpii.pth\"\n",
    "encoder = FusionVit(pretrained_path=pretrained_path)\n",
    "neck = nn.Identity()\n",
    "head = ResMaskHead2()\n",
    "model = PoseEstimate(encoder=encoder, neck=neck, head=head)\n",
    "model.to(device)\n",
    "B = 1\n",
    "video = torch.randn(B, 3, 3, 256, 192).to(device)\n",
    "heatmaps = torch.randn(B, 17, 64, 48).to(device)\n",
    "f = torch.randn(B, 768, 16, 12).to(device)\n",
    "flops, params = profile(head, inputs=(f, heatmaps))\n",
    "gflops = flops / 1e9\n",
    "params = params / 1e6\n",
    "\n",
    "print(f\"GFLOPs: {gflops}G\")\n",
    "print(f\"Params: {params}M\")"
   ]
  }
 ],
 "metadata": {
  "kernelspec": {
   "display_name": "pt21_eval",
   "language": "python",
   "name": "python3"
  },
  "language_info": {
   "codemirror_mode": {
    "name": "ipython",
    "version": 3
   },
   "file_extension": ".py",
   "mimetype": "text/x-python",
   "name": "python",
   "nbconvert_exporter": "python",
   "pygments_lexer": "ipython3",
   "version": "3.10.12"
  },
  "orig_nbformat": 4
 },
 "nbformat": 4,
 "nbformat_minor": 2
}
