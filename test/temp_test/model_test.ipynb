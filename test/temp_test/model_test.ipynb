{
 "cells": [
  {
   "cell_type": "code",
   "execution_count": 1,
   "metadata": {},
   "outputs": [
    {
     "name": "stdout",
     "output_type": "stream",
     "text": [
      "/home/junfeng/Documents/WorkSpace/SummerProject/COMP0073_2023_Junfeng\n"
     ]
    }
   ],
   "source": [
    "%cd /home/junfeng/Documents/WorkSpace/SummerProject/COMP0073_2023_Junfeng"
   ]
  },
  {
   "cell_type": "code",
   "execution_count": 2,
   "metadata": {},
   "outputs": [],
   "source": [
    "import torch\n",
    "import torch.nn as nn\n",
    "\n",
    "from models.backbone import ViTEncoder, VideoViTEncoder\n",
    "from models.head import DeconvHead\n",
    "from models.neck import UnPatch\n",
    "from models.PoseEstimate import PoseEstimate"
   ]
  },
  {
   "cell_type": "code",
   "execution_count": 4,
   "metadata": {},
   "outputs": [
    {
     "name": "stdout",
     "output_type": "stream",
     "text": [
      "torch.Size([4, 17, 64, 48])\n"
     ]
    }
   ],
   "source": [
    "# device = torch.device('cuda' if torch.cuda.is_available() else 'cpu')\n",
    "device = \"cpu\"\n",
    "pretrained_path = \"./checkpoints/vitpose_base_coco_aic_mpii.pth\"\n",
    "encoder =  VideoViTEncoder(pretrained_path=pretrained_path)\n",
    "neck = nn.Identity()\n",
    "head = DeconvHead(pretrained_path=pretrained_path)\n",
    "model = PoseEstimate(encoder=encoder, neck=neck, head=head)\n",
    "model.to(device)\n",
    "video = torch.randn(4, 3, 3, 256, 192).to(device)\n",
    "heatmaps = torch.randn(4, 17, 64, 48).to(device)\n",
    "image = video[:, 1]\n",
    "pred = model(video)\n",
    "print(pred.shape)"
   ]
  }
 ],
 "metadata": {
  "kernelspec": {
   "display_name": "pt21_eval",
   "language": "python",
   "name": "python3"
  },
  "language_info": {
   "codemirror_mode": {
    "name": "ipython",
    "version": 3
   },
   "file_extension": ".py",
   "mimetype": "text/x-python",
   "name": "python",
   "nbconvert_exporter": "python",
   "pygments_lexer": "ipython3",
   "version": "3.10.12"
  },
  "orig_nbformat": 4
 },
 "nbformat": 4,
 "nbformat_minor": 2
}
