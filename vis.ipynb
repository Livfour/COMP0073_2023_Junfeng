{
 "cells": [
  {
   "cell_type": "code",
   "execution_count": 16,
   "metadata": {},
   "outputs": [],
   "source": [
    "import os\n",
    "import numpy as np\n",
    "import json"
   ]
  },
  {
   "cell_type": "code",
   "execution_count": 17,
   "metadata": {},
   "outputs": [],
   "source": [
    "head_index_list = [0, 1, 2, 3, 4]\n",
    "shoulder_index_list = [5, 6]\n",
    "elbow_index_list = [7, 8]\n",
    "wrist_index_list = [9, 10]\n",
    "hip_index_list = [11, 12]\n",
    "knee_index_list = [13, 14]\n",
    "ankle_index_list = [15, 16]\n",
    "\n",
    "def calculate_acc_for_parts(TP, P):\n",
    "    head_acc = TP[head_index_list].sum() / P[head_index_list].sum()\n",
    "    shoulder_acc = TP[shoulder_index_list].sum() / P[shoulder_index_list].sum()\n",
    "    elbow_acc = TP[elbow_index_list].sum() / P[elbow_index_list].sum()\n",
    "    wrist_acc = TP[wrist_index_list].sum() / P[wrist_index_list].sum()\n",
    "    hip_acc = TP[hip_index_list].sum() / P[hip_index_list].sum()\n",
    "    knee_acc = TP[knee_index_list].sum() / P[knee_index_list].sum()\n",
    "    ankle_acc = TP[ankle_index_list].sum() / P[ankle_index_list].sum()\n",
    "    parts_acc_result = {\n",
    "        'Head': head_acc,\n",
    "        'Shoulder': shoulder_acc,\n",
    "        'Elbow': elbow_acc,\n",
    "        'Wrist': wrist_acc,\n",
    "        'Hip': hip_acc,\n",
    "        'Knee': knee_acc,\n",
    "        'Ankle': ankle_acc\n",
    "    }\n",
    "    return parts_acc_result"
   ]
  },
  {
   "cell_type": "code",
   "execution_count": 30,
   "metadata": {},
   "outputs": [],
   "source": [
    "result_path = './results'\n",
    "result_file_list = os.listdir(result_path)\n",
    "result_file_list.sort()\n",
    "for result_file in result_file_list:\n",
    "    if result_file.endswith('.json'):\n",
    "        with open(os.path.join(result_path, result_file), 'r') as f:\n",
    "            result = json.load(f)\n",
    "            parts_result = calculate_acc_for_parts(np.array(result['TP']), np.array(result['P']))\n",
    "            parts_result_udp = calculate_acc_for_parts(np.array(result['TP_udp']), np.array(result['P_udp']))\n",
    "            result['parts_acc'] = parts_result\n",
    "            result['parts_acc_udp'] = parts_result_udp\n",
    "            \n",
    "        with open(os.path.join(result_path, result_file), 'w') as f:\n",
    "                json.dump(result, f)"
   ]
  }
 ],
 "metadata": {
  "kernelspec": {
   "display_name": "pt21_eval",
   "language": "python",
   "name": "python3"
  },
  "language_info": {
   "codemirror_mode": {
    "name": "ipython",
    "version": 3
   },
   "file_extension": ".py",
   "mimetype": "text/x-python",
   "name": "python",
   "nbconvert_exporter": "python",
   "pygments_lexer": "ipython3",
   "version": "3.10.12"
  },
  "orig_nbformat": 4
 },
 "nbformat": 4,
 "nbformat_minor": 2
}
